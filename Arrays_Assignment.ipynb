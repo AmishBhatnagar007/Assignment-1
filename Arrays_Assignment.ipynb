{
  "nbformat": 4,
  "nbformat_minor": 0,
  "metadata": {
    "colab": {
      "provenance": []
    },
    "kernelspec": {
      "name": "python3",
      "display_name": "Python 3"
    },
    "language_info": {
      "name": "python"
    }
  },
  "cells": [
    {
      "cell_type": "code",
      "execution_count": 1,
      "metadata": {
        "colab": {
          "base_uri": "https://localhost:8080/"
        },
        "id": "0SL9TT4P2QJa",
        "outputId": "90ad9b97-8143-42af-89f3-e827a19fe384"
      },
      "outputs": [
        {
          "output_type": "stream",
          "name": "stdout",
          "text": [
            "True\n"
          ]
        }
      ],
      "source": [
        "#Q1\n",
        "def checkdup(arr):\n",
        "    for i in range(0,len(arr)):\n",
        "        for j in range(i+1,len(arr)):\n",
        "            if arr[i]==arr[j]:\n",
        "                return \"True\"\n",
        "    return \"False\"\n",
        "\n",
        "print(checkdup([1, 2, 4, 2, 5, 9]))"
      ]
    },
    {
      "cell_type": "code",
      "source": [
        "#Q2\n",
        "def rotation(arr,k):\n",
        "    for i in range(k):\n",
        "        m=arr[len(arr)-1]\n",
        "        for j in range(1,len(arr)):\n",
        "            arr[len(arr)-j]=arr[len(arr)-(j+1)]\n",
        "        arr[0]=m\n",
        "    return arr\n",
        "print(rotation([1,2,3,4,5,6,7],3))\n"
      ],
      "metadata": {
        "colab": {
          "base_uri": "https://localhost:8080/"
        },
        "id": "t5z0alge2Xku",
        "outputId": "6d423f7c-2cd8-4b3c-f5a1-e4161385efe8"
      },
      "execution_count": 2,
      "outputs": [
        {
          "output_type": "stream",
          "name": "stdout",
          "text": [
            "[5, 6, 7, 1, 2, 3, 4]\n"
          ]
        }
      ]
    },
    {
      "cell_type": "code",
      "source": [
        "#Q3\n",
        "def revArr(arr):\n",
        "    for i in range(len(arr)//2):\n",
        "        k=arr[i]\n",
        "        arr[i]=arr[len(arr)-i-1]\n",
        "        arr[len(arr)-i-1]=k\n",
        "    return arr\n",
        "print(revArr([2, 4, 5, 7, 9, 12]))"
      ],
      "metadata": {
        "colab": {
          "base_uri": "https://localhost:8080/"
        },
        "id": "sZsGFIA-2Z9I",
        "outputId": "766e7204-e342-493d-a619-9689ec6eac18"
      },
      "execution_count": 3,
      "outputs": [
        {
          "output_type": "stream",
          "name": "stdout",
          "text": [
            "[12, 9, 7, 5, 4, 2]\n"
          ]
        }
      ]
    },
    {
      "cell_type": "code",
      "source": [
        "#Q4\n",
        "def maxinarr(arr):\n",
        "    max=0\n",
        "    for i in range(len(arr)):\n",
        "        if max<arr[i]:\n",
        "            max=arr[i]\n",
        "        else:\n",
        "            max=max\n",
        "    return max\n",
        "print(maxinarr([10, 5, 20, 8, 15]))\n",
        ""
      ],
      "metadata": {
        "colab": {
          "base_uri": "https://localhost:8080/"
        },
        "id": "XGNSGP7_2cED",
        "outputId": "be547d3b-a7be-4b58-b599-b1903cac83b8"
      },
      "execution_count": 4,
      "outputs": [
        {
          "output_type": "stream",
          "name": "stdout",
          "text": [
            "20\n"
          ]
        }
      ]
    },
    {
      "cell_type": "code",
      "source": [
        "#Q5\n",
        "def remove_duplicates(arr):\n",
        "    unique_index = 0\n",
        "    for i in range(1, len(arr)):\n",
        "        if arr[i] != arr[unique_index]:\n",
        "            unique_index += 1\n",
        "            arr[unique_index] = arr[i]\n",
        "\n",
        "    del arr[unique_index + 1:]\n",
        "\n",
        "    return arr\n",
        "\n",
        "print(remove_duplicates([1, 1, 2, 2, 2, 3, 3, 4, 4, 4, 5, 5]))\n"
      ],
      "metadata": {
        "colab": {
          "base_uri": "https://localhost:8080/"
        },
        "id": "BaC_yu_L2d7B",
        "outputId": "c60cde76-449e-4373-8354-7a70116980c4"
      },
      "execution_count": 5,
      "outputs": [
        {
          "output_type": "stream",
          "name": "stdout",
          "text": [
            "[1, 2, 3, 4, 5]\n"
          ]
        }
      ]
    },
    {
      "cell_type": "code",
      "source": [],
      "metadata": {
        "id": "KFUKSg9X2fn8"
      },
      "execution_count": 5,
      "outputs": []
    }
  ]
}
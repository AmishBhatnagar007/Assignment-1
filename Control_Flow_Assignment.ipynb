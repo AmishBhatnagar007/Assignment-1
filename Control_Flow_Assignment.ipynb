{
  "nbformat": 4,
  "nbformat_minor": 0,
  "metadata": {
    "colab": {
      "provenance": []
    },
    "kernelspec": {
      "name": "python3",
      "display_name": "Python 3"
    },
    "language_info": {
      "name": "python"
    }
  },
  "cells": [
    {
      "cell_type": "code",
      "execution_count": null,
      "metadata": {
        "colab": {
          "base_uri": "https://localhost:8080/"
        },
        "id": "ULI3c9Rz2fJs",
        "outputId": "8dfa8c0a-eb2b-406d-dcf2-20150c152978"
      },
      "outputs": [
        {
          "output_type": "stream",
          "name": "stdout",
          "text": [
            "23\n",
            "positive\n"
          ]
        }
      ],
      "source": [
        "#Q1\n",
        "x=int(input())\n",
        "if x>0:\n",
        "  print(\"positive\")\n",
        "elif x<0:\n",
        "  print(\"negative\")"
      ]
    },
    {
      "cell_type": "code",
      "source": [
        "#Q2\n",
        "x=int(input())\n",
        "if x>=18:\n",
        "  print(\"Yes, can vote\")\n",
        "else:\n",
        "  print(\"Not eligible to vote\")"
      ],
      "metadata": {
        "colab": {
          "base_uri": "https://localhost:8080/"
        },
        "id": "MBDTCQCB3HOf",
        "outputId": "d5155f24-cb2f-4ea2-9fc4-712271b363c3"
      },
      "execution_count": null,
      "outputs": [
        {
          "output_type": "stream",
          "name": "stdout",
          "text": [
            "23\n",
            "Yes, can vote\n"
          ]
        }
      ]
    },
    {
      "cell_type": "code",
      "source": [
        "#Q3\n",
        "x=int(input())\n",
        "y=int(input())\n",
        "if x>y:\n",
        "  max=x\n",
        "else:\n",
        "  max=y\n",
        "print(\"max is :\",max)"
      ],
      "metadata": {
        "colab": {
          "base_uri": "https://localhost:8080/"
        },
        "id": "vkEJksiE3fDu",
        "outputId": "6d54f73d-cfe3-4da7-88b2-10866494d042"
      },
      "execution_count": null,
      "outputs": [
        {
          "output_type": "stream",
          "name": "stdout",
          "text": [
            "23\n",
            "47\n",
            "max is : 47\n"
          ]
        }
      ]
    },
    {
      "cell_type": "code",
      "source": [
        "#Q4\n",
        "x=int(input())\n",
        "if x%4==0:\n",
        "  print(\"leap year\")\n",
        "else:\n",
        "  print(\"not a leap year\")\n"
      ],
      "metadata": {
        "colab": {
          "base_uri": "https://localhost:8080/"
        },
        "id": "YxjAykQx3o-X",
        "outputId": "b0e054ba-b06e-42b9-a4a1-45246d7c77d6"
      },
      "execution_count": null,
      "outputs": [
        {
          "output_type": "stream",
          "name": "stdout",
          "text": [
            "2004\n",
            "leap year\n"
          ]
        }
      ]
    },
    {
      "cell_type": "code",
      "source": [
        "#Q5\n",
        "x=input()\n",
        "if x in [\"a\",\"e\",\"i\",\"o\",\"u\"]:\n",
        "  print(\"vowel\")\n",
        "else:\n",
        "  print(\"not a vowel\")"
      ],
      "metadata": {
        "colab": {
          "base_uri": "https://localhost:8080/"
        },
        "id": "x7I_C4RT32gd",
        "outputId": "f52f6b6a-bbca-4301-c9a5-e0d0cf7322d6"
      },
      "execution_count": null,
      "outputs": [
        {
          "output_type": "stream",
          "name": "stdout",
          "text": [
            "a\n",
            "vowel\n"
          ]
        }
      ]
    },
    {
      "cell_type": "code",
      "source": [
        "#Q6\n",
        "x=int(input())\n",
        "if x%2==0:\n",
        "  print('even')\n",
        "else:\n",
        "  print(\"odd\")"
      ],
      "metadata": {
        "colab": {
          "base_uri": "https://localhost:8080/"
        },
        "id": "u9LRzfSe4Lvj",
        "outputId": "5044b20a-713c-4e67-b8b3-db7d4c52b0bf"
      },
      "execution_count": null,
      "outputs": [
        {
          "output_type": "stream",
          "name": "stdout",
          "text": [
            "59\n",
            "odd\n"
          ]
        }
      ]
    },
    {
      "cell_type": "code",
      "source": [
        "#Q7\n",
        "x=int(input())\n",
        "if x>0:\n",
        "  print(\"abs val:\",x)\n",
        "elif x<0:\n",
        "  print(\"abs val:\",-1*x)"
      ],
      "metadata": {
        "colab": {
          "base_uri": "https://localhost:8080/"
        },
        "id": "096HAuBR4TKr",
        "outputId": "55a5a1f4-3ad2-4899-e036-34ad6aef7622"
      },
      "execution_count": null,
      "outputs": [
        {
          "output_type": "stream",
          "name": "stdout",
          "text": [
            "-98\n",
            "abs val: 98\n"
          ]
        }
      ]
    },
    {
      "cell_type": "code",
      "source": [
        "#Q8\n",
        "x=int(input())\n",
        "y=int(input())\n",
        "z=int(input())\n",
        "if x>y:\n",
        "  max=x\n",
        "  if max>z:\n",
        "    max=x\n",
        "  elif max<z:\n",
        "    max=z\n",
        "elif x<y:\n",
        "  max=y\n",
        "  if z>max:\n",
        "    max=z\n",
        "  elif z<max:\n",
        "    max=y\n",
        "print(\"max of all is:\",max)"
      ],
      "metadata": {
        "colab": {
          "base_uri": "https://localhost:8080/"
        },
        "id": "m9wtW4pP4jRq",
        "outputId": "cee82223-490d-4bb3-9d18-d30874b7553e"
      },
      "execution_count": null,
      "outputs": [
        {
          "output_type": "stream",
          "name": "stdout",
          "text": [
            "2\n",
            "5\n",
            "8\n",
            "max of all is: 8\n"
          ]
        }
      ]
    },
    {
      "cell_type": "code",
      "source": [
        "#Q9\n",
        "x=input()\n",
        "if x[::]==x[::-1]:\n",
        "  print(\"pallindrome\")\n",
        "else:\n",
        "  print(\"not a pallindrome\")"
      ],
      "metadata": {
        "colab": {
          "base_uri": "https://localhost:8080/"
        },
        "id": "OsDx1Wvo6RyH",
        "outputId": "4ec63358-6dcc-434c-bd28-66642d549bf5"
      },
      "execution_count": null,
      "outputs": [
        {
          "output_type": "stream",
          "name": "stdout",
          "text": [
            "amishhsima\n",
            "pallindrome\n"
          ]
        }
      ]
    },
    {
      "cell_type": "code",
      "source": [
        "#Q10\n",
        "x=int(input())\n",
        "if 90<=x<=100:\n",
        "  print(\"Ex\")\n",
        "elif 80<=x<=90:\n",
        "  print(\"A\")\n",
        "elif 70<=x<80:\n",
        "  print(\"B\")\n",
        "elif 60<=x<70:\n",
        "  print(\"C\")\n",
        "elif 50<=x<60:\n",
        "  print(\"D\")\n",
        "elif 40<=x<50:\n",
        "  print(\"P\")\n",
        "else:\n",
        "  print(\"F\")"
      ],
      "metadata": {
        "colab": {
          "base_uri": "https://localhost:8080/"
        },
        "id": "dVPcS50y6iQ7",
        "outputId": "2efed972-0ecf-414c-c007-11f7b90410d3"
      },
      "execution_count": null,
      "outputs": [
        {
          "output_type": "stream",
          "name": "stdout",
          "text": [
            "45\n",
            "P\n"
          ]
        }
      ]
    },
    {
      "cell_type": "code",
      "source": [
        "#Q11\n",
        "x=int(input())\n",
        "y=int(input())\n",
        "z=int(input())\n",
        "if x>y:\n",
        "  max=x\n",
        "  if max>z:\n",
        "    max=x\n",
        "  elif max<z:\n",
        "    max=z\n",
        "elif x<y:\n",
        "  max=y\n",
        "  if z>max:\n",
        "    max=z\n",
        "  elif z<max:\n",
        "    max=y\n",
        "print(\"max of all is:\",max)"
      ],
      "metadata": {
        "colab": {
          "base_uri": "https://localhost:8080/"
        },
        "id": "FRniqkgv7dmG",
        "outputId": "ad4c3ec7-df37-4220-ec8d-506855334154"
      },
      "execution_count": null,
      "outputs": [
        {
          "output_type": "stream",
          "name": "stdout",
          "text": [
            "23\n",
            "78\n",
            "1\n",
            "max of all is: 78\n"
          ]
        }
      ]
    },
    {
      "cell_type": "code",
      "source": [
        "#Q12\n",
        "x=int(input())\n",
        "y=int(input())\n",
        "z=int(input())\n",
        "if x==y and y==z and z==x:\n",
        "  print(\"Equilateral\")\n",
        "elif x==y or y==z or z==x:\n",
        "  print(\"isoceles\")\n",
        "else:\n",
        "  print(\"scalene\")"
      ],
      "metadata": {
        "colab": {
          "base_uri": "https://localhost:8080/"
        },
        "id": "Lf7dOGFkD2uJ",
        "outputId": "bac748c1-79d5-4728-bba6-b73c4d50f379"
      },
      "execution_count": null,
      "outputs": [
        {
          "output_type": "stream",
          "name": "stdout",
          "text": [
            "1\n",
            "1\n",
            "3\n",
            "isoceles\n"
          ]
        }
      ]
    },
    {
      "cell_type": "code",
      "source": [
        "#Q13\n",
        "x=int(input())\n",
        "if x%4==0 and x%400==0:\n",
        "  print(\"century leap year\")\n",
        "elif x%4==0:\n",
        "  print(\"leap year\")"
      ],
      "metadata": {
        "colab": {
          "base_uri": "https://localhost:8080/"
        },
        "id": "LcOBtr2gFlbX",
        "outputId": "d25d3d24-2bd2-4658-b5dc-e442332ed450"
      },
      "execution_count": null,
      "outputs": [
        {
          "output_type": "stream",
          "name": "stdout",
          "text": [
            "2000\n",
            "century leap year\n"
          ]
        }
      ]
    },
    {
      "cell_type": "code",
      "source": [
        "#Q14\n",
        "x=int(input())\n",
        "if x>0:\n",
        "  print(\"positive\")\n",
        "elif x<0:\n",
        "  print(\"negative\")\n",
        "else:\n",
        "  print(\"0\")\n"
      ],
      "metadata": {
        "colab": {
          "base_uri": "https://localhost:8080/"
        },
        "id": "L_pI8Y5iGYZZ",
        "outputId": "363102ff-83d5-4c38-ec9a-c1d62ef64efb"
      },
      "execution_count": null,
      "outputs": [
        {
          "output_type": "stream",
          "name": "stdout",
          "text": [
            "0\n",
            "0\n"
          ]
        }
      ]
    },
    {
      "cell_type": "code",
      "source": [
        "#Q15\n",
        "x=int(input())\n",
        "if 13<x<19:\n",
        "  print(\"teenager\")"
      ],
      "metadata": {
        "colab": {
          "base_uri": "https://localhost:8080/"
        },
        "id": "zoe0fAxqImBC",
        "outputId": "eb3fa337-18bd-401b-9144-8fd72405772f"
      },
      "execution_count": null,
      "outputs": [
        {
          "output_type": "stream",
          "name": "stdout",
          "text": [
            "18\n",
            "teenager\n"
          ]
        }
      ]
    },
    {
      "cell_type": "code",
      "source": [
        "#Q16\n",
        "x=int(input())\n",
        "if x<90:\n",
        "  print(\"Acute\")\n",
        "elif x==90:\n",
        "  print(\"Right\")\n",
        "elif x>90:\n",
        "  print(\"Obtuse\")"
      ],
      "metadata": {
        "colab": {
          "base_uri": "https://localhost:8080/"
        },
        "id": "GxsO-EKrIv1K",
        "outputId": "97eaa19a-8f70-4aa0-9d4b-5de1c26afefe"
      },
      "execution_count": null,
      "outputs": [
        {
          "output_type": "stream",
          "name": "stdout",
          "text": [
            "92\n",
            "Obtuse\n"
          ]
        }
      ]
    },
    {
      "cell_type": "code",
      "source": [
        "#Q17 ---> DOUBT, how to take square root\n",
        "print(\"enter the coefficients of x^2,x and constant\")\n",
        "a=int(input())\n",
        "b=int(input())\n",
        "c=int(input())\n",
        "root="
      ],
      "metadata": {
        "id": "_GmOssoSJA6J"
      },
      "execution_count": null,
      "outputs": []
    },
    {
      "cell_type": "code",
      "source": [
        "#Q18\n",
        "x=int(input())\n",
        "if x==1:\n",
        "  print(\"Monday\")\n",
        "elif x==2:\n",
        "  print(\"Tuesday\")\n",
        "elif x==3:\n",
        "  print(\"Wednesday\")\n",
        "elif x==4:\n",
        "  print(\"Thursday\")\n",
        "elif x==5:\n",
        "  print(\"Friday\")\n",
        "elif x==6:\n",
        "  print(\"Saturday\")\n",
        "elif x==7:\n",
        "  print(\"Sunday\")"
      ],
      "metadata": {
        "colab": {
          "base_uri": "https://localhost:8080/"
        },
        "id": "qkiT8Up4LcDP",
        "outputId": "58d1d160-1358-4c23-fec2-3cc1904557fa"
      },
      "execution_count": null,
      "outputs": [
        {
          "output_type": "stream",
          "name": "stdout",
          "text": [
            "5\n",
            "Friday\n"
          ]
        }
      ]
    },
    {
      "cell_type": "code",
      "source": [
        "#Q19\n",
        "x=int(input())\n",
        "if x%4==0 and x%400==0:\n",
        "  print(\"century leap year\")\n",
        "elif x%4==0:\n",
        "  print(\"leap year\")"
      ],
      "metadata": {
        "colab": {
          "base_uri": "https://localhost:8080/"
        },
        "id": "S6G3ChjFP6qf",
        "outputId": "9792d929-b188-41c9-bd51-431871bf368b"
      },
      "execution_count": null,
      "outputs": [
        {
          "output_type": "stream",
          "name": "stdout",
          "text": [
            "2400\n",
            "century leap year\n"
          ]
        }
      ]
    },
    {
      "cell_type": "code",
      "source": [
        "#Q20\n",
        "#doubt"
      ],
      "metadata": {
        "id": "k_w5i8TZQa8A"
      },
      "execution_count": null,
      "outputs": []
    },
    {
      "cell_type": "code",
      "source": [
        "#Q21\n",
        "x=int(input())\n",
        "if 90<=x<=100:\n",
        "  print(\"Ex\")\n",
        "elif 80<=x<=90:\n",
        "  print(\"A\")\n",
        "elif 70<=x<80:\n",
        "  print(\"B\")\n",
        "elif 60<=x<70:\n",
        "  print(\"C\")\n",
        "elif 50<=x<60:\n",
        "  print(\"D\")\n",
        "elif 40<=x<50:\n",
        "  print(\"P\")\n",
        "else:\n",
        "  print(\"F\")"
      ],
      "metadata": {
        "colab": {
          "base_uri": "https://localhost:8080/"
        },
        "id": "OPZwKwyQ_b3w",
        "outputId": "92e75a18-0cb8-4093-e4aa-fc220d34d374"
      },
      "execution_count": null,
      "outputs": [
        {
          "output_type": "stream",
          "name": "stdout",
          "text": [
            "35\n",
            "F\n"
          ]
        }
      ]
    },
    {
      "cell_type": "code",
      "source": [
        "#Q22\n",
        "x=int(input())\n",
        "y=int(input())\n",
        "z=int(input())\n",
        "if x==y and y==z and z==x:\n",
        "  print(\"Equilateral\")\n",
        "elif x==y or y==z or z==x:\n",
        "  print(\"isoceles\")\n",
        "else:\n",
        "  print(\"scalene\")"
      ],
      "metadata": {
        "colab": {
          "base_uri": "https://localhost:8080/"
        },
        "id": "pvGIESFR_iop",
        "outputId": "4e975031-a4b0-4598-d4db-04ea8365ec17"
      },
      "execution_count": null,
      "outputs": [
        {
          "output_type": "stream",
          "name": "stdout",
          "text": [
            "3\n",
            "4\n",
            "5\n",
            "scalene\n"
          ]
        }
      ]
    },
    {
      "cell_type": "code",
      "source": [
        "#Q23\n",
        "bmi = float(input())\n",
        "if 0<=bmi<=18.4:\n",
        "  print(\"underweight\")\n",
        "elif 18.5<=bmi<=24.9:\n",
        "  print(\"Normal\")\n",
        "elif 25<=bmi<=29.9:\n",
        "  print(\"Overweight\")\n",
        "else:\n",
        "  print(\"Obese\")"
      ],
      "metadata": {
        "colab": {
          "base_uri": "https://localhost:8080/"
        },
        "id": "H6oVNZjc_tOL",
        "outputId": "d1955a0c-0923-4a6d-e7d9-6830f9f91a10"
      },
      "execution_count": null,
      "outputs": [
        {
          "output_type": "stream",
          "name": "stdout",
          "text": [
            "18.5\n",
            "Normal\n"
          ]
        }
      ]
    },
    {
      "cell_type": "code",
      "source": [
        "#Q24\n",
        "x=int(input())\n",
        "if x>0:\n",
        "  print(\"positive\")\n",
        "elif x<0:\n",
        "  print(\"negative\")\n",
        "elif x==0:\n",
        "  print(\"zero\")"
      ],
      "metadata": {
        "colab": {
          "base_uri": "https://localhost:8080/"
        },
        "id": "sCFpVR1tA4b5",
        "outputId": "b1bdc6cd-340e-4731-d50f-f1ee2f5d70b0"
      },
      "execution_count": null,
      "outputs": [
        {
          "output_type": "stream",
          "name": "stdout",
          "text": [
            "-9\n",
            "negative\n"
          ]
        }
      ]
    },
    {
      "cell_type": "code",
      "source": [
        "#Q25\n",
        "x=input()\n",
        "if x.isupper():\n",
        "  print(\"capital\")\n",
        "elif x.islower():\n",
        "  print(\"lower\")\n",
        "else :\n",
        "  print(\"special\")"
      ],
      "metadata": {
        "colab": {
          "base_uri": "https://localhost:8080/"
        },
        "id": "E4_PqzRrBFev",
        "outputId": "b1244d66-5cdb-446f-ada6-1eb1ee8bef01"
      },
      "execution_count": null,
      "outputs": [
        {
          "output_type": "stream",
          "name": "stdout",
          "text": [
            "*\n",
            "special\n"
          ]
        }
      ]
    },
    {
      "cell_type": "code",
      "source": [
        " #Q26\n",
        " purchase_amount = float(input(\"Enter the purchase amount: ₹\"))\n",
        "\n",
        "if purchase_amount < 0:\n",
        "    print(\"Invalid input. Purchase amount cannot be negative.\")\n",
        "else:\n",
        "    if purchase_amount < 100:\n",
        "      discount = 0\n",
        "    elif purchase_amount < 500:\n",
        "      discount = 10\n",
        "    elif purchase_amount < 1000:\n",
        "      discount = 20\n",
        "    else:\n",
        "      discount = 30\n",
        "\n",
        "discounted_price = purchase_amount * (1 - discount / 100)\n",
        "print(\"Discounted price: ₹\",discounted_price)"
      ],
      "metadata": {
        "colab": {
          "base_uri": "https://localhost:8080/"
        },
        "id": "WTaQ-fsgBc9H",
        "outputId": "a7539ba8-499d-4ca0-9a0f-0222822955df"
      },
      "execution_count": null,
      "outputs": [
        {
          "output_type": "stream",
          "name": "stdout",
          "text": [
            "Enter the purchase amount: ₹2000\n",
            "Discounted price: ₹ 1400.0\n"
          ]
        }
      ]
    },
    {
      "cell_type": "code",
      "source": [
        "#Q27\n",
        "consumption = float(input(\"Enter the electricity consumption in kWh: \"))\n",
        "\n",
        "if consumption < 0:\n",
        "    print(\"Invalid input. Consumption cannot be negative.\")\n",
        "else:\n",
        "    if consumption <= 100:\n",
        "      rate = 0.10  # Rate for the first 100 kWh\n",
        "    elif consumption <= 200:\n",
        "      rate = 0.15  # Rate for the next 100 kWh\n",
        "    elif consumption <= 300:\n",
        "      rate = 0.20  # Rate for the next 100 kWh\n",
        "    else:\n",
        "      rate = 0.25  # Rate for consumption above 300 kWh\n",
        "\n",
        "total_bill = consumption * rate\n",
        "print(f\"Electricity bill:\",total_bill)\n"
      ],
      "metadata": {
        "colab": {
          "base_uri": "https://localhost:8080/"
        },
        "id": "9vUeOYZcCXQD",
        "outputId": "eab73767-a973-43f7-d2d1-e93de1fc289e"
      },
      "execution_count": null,
      "outputs": [
        {
          "output_type": "stream",
          "name": "stdout",
          "text": [
            "Enter the electricity consumption in kWh: 156\n",
            "Electricity bill: 23.4\n"
          ]
        }
      ]
    },
    {
      "cell_type": "code",
      "source": [],
      "metadata": {
        "id": "BDqMw0aJFm41"
      },
      "execution_count": null,
      "outputs": []
    },
    {
      "cell_type": "code",
      "source": [
        "#Q29\n",
        "month = int(input(\"Enter the month (1-12): \"))\n",
        "\n",
        "if 1 <= month <= 12:\n",
        "    if month in [12, 1, 2]:\n",
        "      season = \"Winter\"\n",
        "    elif month in [3, 4, 5]:\n",
        "      season = \"Spring\"\n",
        "    elif month in [6, 7, 8]:\n",
        "      season = \"Summer\"\n",
        "    else:\n",
        "      season = \"Autumn (Fall)\"\n",
        "    print(\"The season for month\",month,\"is\",season)\n",
        "else:\n",
        "    print(\"Invalid input. Please enter a valid month (1-12).\")\n"
      ],
      "metadata": {
        "colab": {
          "base_uri": "https://localhost:8080/"
        },
        "id": "eWkmSXjMDwLA",
        "outputId": "278af62e-f6aa-4e45-9852-0d187f4beed9"
      },
      "execution_count": null,
      "outputs": [
        {
          "output_type": "stream",
          "name": "stdout",
          "text": [
            "Enter the month (1-12): 23\n",
            "Invalid input. Please enter a valid month (1-12).\n"
          ]
        }
      ]
    },
    {
      "cell_type": "code",
      "source": [
        "#Q30\n",
        "year=int(input(\"enter year:\"))\n",
        "month=int(input(\"enter month from (1-12):\"))\n",
        "if month in [1,3,5,7,8,10,12]:\n",
        "  if year%4==0:\n",
        "    print(\"31 days and leap year\")\n",
        "  else:\n",
        "    print(\"31 days and common year\")\n",
        "elif month in [2,4,6,9,11]:\n",
        "  if year%4==0:\n",
        "    print(\"30 days and leap year\")\n",
        "  else:\n",
        "    print(\"30 days and common year\")"
      ],
      "metadata": {
        "id": "mcLgLAjGF_k0",
        "colab": {
          "base_uri": "https://localhost:8080/"
        },
        "outputId": "ba53d423-5d48-4c55-e61e-5591b035e9fd"
      },
      "execution_count": null,
      "outputs": [
        {
          "output_type": "stream",
          "name": "stdout",
          "text": [
            "enter year:2004\n",
            "enter month from (1-12):11\n",
            "30 days and leap year\n"
          ]
        }
      ]
    },
    {
      "cell_type": "code",
      "source": [
        "#-------------------------------------------------------------------------------------------------------------------------------------------------------------------------------"
      ],
      "metadata": {
        "id": "F6U1plyya5VV"
      },
      "execution_count": null,
      "outputs": []
    },
    {
      "cell_type": "code",
      "source": [
        "#BASIC, INTERMEDIATE, ADVANCED, CHALLENGE LEVEL QUESTIONS"
      ],
      "metadata": {
        "id": "Lk4CWlbGbBBW"
      },
      "execution_count": null,
      "outputs": []
    },
    {
      "cell_type": "code",
      "source": [
        "#Q1\n",
        "x=int(input())\n",
        "if x>0:\n",
        "  print(\"positive\")\n",
        "elif x<0:\n",
        "  print(\"negative\")\n",
        "elif x==0:\n",
        "  print(\"zero\")"
      ],
      "metadata": {
        "colab": {
          "base_uri": "https://localhost:8080/"
        },
        "id": "70ir9btWbPUB",
        "outputId": "8af0060d-f82f-4d1e-f7d3-795c1d36b240"
      },
      "execution_count": null,
      "outputs": [
        {
          "output_type": "stream",
          "name": "stdout",
          "text": [
            "-74\n",
            "negative\n"
          ]
        }
      ]
    },
    {
      "cell_type": "code",
      "source": [
        "#Q2\n",
        "x=int(input())\n",
        "if x>=18:\n",
        "  print(\"Yes, can vote\")\n",
        "else:\n",
        "  print(\"Not eligible to vote\")"
      ],
      "metadata": {
        "colab": {
          "base_uri": "https://localhost:8080/"
        },
        "id": "JBRW2zqLbU_Q",
        "outputId": "b122a0c0-5320-499f-f1c1-8d8ee263ba26"
      },
      "execution_count": null,
      "outputs": [
        {
          "output_type": "stream",
          "name": "stdout",
          "text": [
            "89\n",
            "Yes, can vote\n"
          ]
        }
      ]
    },
    {
      "cell_type": "code",
      "source": [
        "#Q3\n",
        "x=int(input())\n",
        "y=int(input())\n",
        "if x>y:\n",
        "  max=x\n",
        "else:\n",
        "  max=y\n",
        "print(\"max is :\",max)"
      ],
      "metadata": {
        "colab": {
          "base_uri": "https://localhost:8080/"
        },
        "id": "G4Af73DFbdqZ",
        "outputId": "95d5cc86-23eb-4a18-ac65-57ff7a3e5a23"
      },
      "execution_count": null,
      "outputs": [
        {
          "output_type": "stream",
          "name": "stdout",
          "text": [
            "4\n",
            "9\n",
            "max is : 9\n"
          ]
        }
      ]
    },
    {
      "cell_type": "code",
      "source": [
        "#Q4\n",
        "x=int(input())\n",
        "if 90<=x<=100:\n",
        "  print(\"Ex\")\n",
        "elif 80<=x<=90:\n",
        "  print(\"A\")\n",
        "elif 70<=x<80:\n",
        "  print(\"B\")\n",
        "elif 60<=x<70:\n",
        "  print(\"C\")\n",
        "elif 50<=x<60:\n",
        "  print(\"D\")\n",
        "elif 40<=x<50:\n",
        "  print(\"P\")\n",
        "else:\n",
        "  print(\"F\")"
      ],
      "metadata": {
        "colab": {
          "base_uri": "https://localhost:8080/"
        },
        "id": "PisK8rMpbs42",
        "outputId": "977db31c-82fe-4541-e649-8e14e9d21b8d"
      },
      "execution_count": null,
      "outputs": [
        {
          "output_type": "stream",
          "name": "stdout",
          "text": [
            "87\n",
            "A\n"
          ]
        }
      ]
    },
    {
      "cell_type": "code",
      "source": [
        "#Q5\n",
        "x=int(input())\n",
        "if x%4==0:\n",
        "  print(\"leap year\")\n",
        "else:\n",
        "  print(\"not a leap year\")\n"
      ],
      "metadata": {
        "colab": {
          "base_uri": "https://localhost:8080/"
        },
        "id": "Hshxv9swb6M5",
        "outputId": "4ca14daa-5fc1-4b66-83c8-94d542d928b4"
      },
      "execution_count": null,
      "outputs": [
        {
          "output_type": "stream",
          "name": "stdout",
          "text": [
            "2022\n",
            "not a leap year\n"
          ]
        }
      ]
    },
    {
      "cell_type": "code",
      "source": [
        "#Q6\n",
        "x=int(input())\n",
        "y=int(input())\n",
        "z=int(input())\n",
        "if x==y and y==z and z==x:\n",
        "  print(\"Equilateral\")\n",
        "elif x==y or y==z or z==x:\n",
        "  print(\"isoceles\")\n",
        "else:\n",
        "  print(\"scalene\")"
      ],
      "metadata": {
        "colab": {
          "base_uri": "https://localhost:8080/"
        },
        "id": "dQBKzbd5cGnO",
        "outputId": "b8afedc6-9915-4748-8085-f6e789dfad9a"
      },
      "execution_count": null,
      "outputs": [
        {
          "output_type": "stream",
          "name": "stdout",
          "text": [
            "12\n",
            "13\n",
            "5\n",
            "scalene\n"
          ]
        }
      ]
    },
    {
      "cell_type": "code",
      "source": [
        "#Q7\n",
        "x=int(input())\n",
        "y=int(input())\n",
        "z=int(input())\n",
        "if x>y:\n",
        "  max=x\n",
        "  if max>z:\n",
        "    max=x\n",
        "  elif max<z:\n",
        "    max=z\n",
        "elif x<y:\n",
        "  max=y\n",
        "  if z>max:\n",
        "    max=z\n",
        "  elif z<max:\n",
        "    max=y\n",
        "print(\"max of all is:\",max)"
      ],
      "metadata": {
        "colab": {
          "base_uri": "https://localhost:8080/"
        },
        "id": "Cl36v94bccDv",
        "outputId": "12928ca3-63fe-48ee-c6c6-dbe0c263d67c"
      },
      "execution_count": null,
      "outputs": [
        {
          "output_type": "stream",
          "name": "stdout",
          "text": [
            "4\n",
            "8\n",
            "15\n",
            "max of all is: 15\n"
          ]
        }
      ]
    },
    {
      "cell_type": "code",
      "source": [
        "#Q8\n",
        "x=input()\n",
        "if x in [\"a\",\"e\",\"i\",\"o\",\"u\"]:\n",
        "  print(\"vowel\")\n",
        "else:\n",
        "  print(\"not a vowel\")"
      ],
      "metadata": {
        "colab": {
          "base_uri": "https://localhost:8080/"
        },
        "id": "3v1qfYK-cs60",
        "outputId": "06bbbd16-ee1e-4908-c7a2-2d934c0095c1"
      },
      "execution_count": null,
      "outputs": [
        {
          "output_type": "stream",
          "name": "stdout",
          "text": [
            "d\n",
            "not a vowel\n"
          ]
        }
      ]
    },
    {
      "cell_type": "code",
      "source": [
        "#Q9--> data insuffecient"
      ],
      "metadata": {
        "id": "kEQ3DF38c5EZ"
      },
      "execution_count": null,
      "outputs": []
    },
    {
      "cell_type": "code",
      "source": [
        "#Q10\n",
        "x=int(input())\n",
        "if x%2==0:\n",
        "  print('even')\n",
        "else:\n",
        "  print(\"odd\")"
      ],
      "metadata": {
        "colab": {
          "base_uri": "https://localhost:8080/"
        },
        "id": "Ugqfvb_1e8y2",
        "outputId": "ddd27cf5-c6b4-48c5-fc43-ab4ef257c8b8"
      },
      "execution_count": null,
      "outputs": [
        {
          "output_type": "stream",
          "name": "stdout",
          "text": [
            "75\n",
            "odd\n"
          ]
        }
      ]
    },
    {
      "cell_type": "code",
      "source": [
        "#Q11\n",
        "import math\n",
        "a=float(input())\n",
        "b=float(input())\n",
        "c=float(input())\n",
        "disc=b**2-(4*a*c)\n",
        "if disc>0:\n",
        "  r1=(-b+(math.sqrt(disc)))/(2*a)\n",
        "  r2=(-b-(math.sqrt(disc)))/(2*a)\n",
        "  print(r1,\",\",r2)\n",
        "elif disc==0:\n",
        "  r1=(-b)/2*a\n",
        "  r2=(-b)/2*a\n",
        "  print(r1,\",\",r2)\n",
        "elif disc<0:\n",
        "  real=(-b)/2*a\n",
        "  im1=(math.sqrt(abs(disc)))/(2*a)\n",
        "  im2=-(math.sqrt(abs(disc)))/(2*a)\n",
        "  r1=complex(real,im1)\n",
        "  r2=complex(real,im2)\n",
        "  print(r1,\",\",r2)\n"
      ],
      "metadata": {
        "colab": {
          "base_uri": "https://localhost:8080/"
        },
        "id": "y-T4bYdXfGBc",
        "outputId": "8fb4a334-5f76-499b-ff0b-6d7e781c777e"
      },
      "execution_count": null,
      "outputs": [
        {
          "output_type": "stream",
          "name": "stdout",
          "text": [
            "1\n",
            "-3\n",
            "5\n",
            "(1.5+1.6583123951777j) , (1.5-1.6583123951777j)\n"
          ]
        }
      ]
    },
    {
      "cell_type": "code",
      "source": [
        "#Q12\n",
        "x=int(input())\n",
        "if x==1:\n",
        "  print(\"Monday\")\n",
        "elif x==2:\n",
        "  print(\"Tuesday\")\n",
        "elif x==3:\n",
        "  print(\"Wednesday\")\n",
        "elif x==4:\n",
        "  print(\"Thursday\")\n",
        "elif x==5:\n",
        "  print(\"Friday\")\n",
        "elif x==6:\n",
        "  print(\"Saturday\")\n",
        "elif x==7:\n",
        "  print(\"Sunday\")\n",
        "else:\n",
        "  print(\"invalid\")"
      ],
      "metadata": {
        "colab": {
          "base_uri": "https://localhost:8080/"
        },
        "id": "9sA8DEqIg8yn",
        "outputId": "e7357df5-134c-4b0e-9278-fb4b78dad9f1"
      },
      "execution_count": null,
      "outputs": [
        {
          "output_type": "stream",
          "name": "stdout",
          "text": [
            "6\n",
            "Saturday\n"
          ]
        }
      ]
    },
    {
      "cell_type": "code",
      "source": [
        "#Q13\n",
        "def fact(n):\n",
        "  if n==0 or n==1:\n",
        "    return 1\n",
        "  else:\n",
        "    return(n*fact(n-1))\n",
        "fact(5)"
      ],
      "metadata": {
        "colab": {
          "base_uri": "https://localhost:8080/"
        },
        "id": "pfFpo9GoiP9R",
        "outputId": "84b7b517-8355-42e9-b591-5ada01f72126"
      },
      "execution_count": null,
      "outputs": [
        {
          "output_type": "execute_result",
          "data": {
            "text/plain": [
              "120"
            ]
          },
          "metadata": {},
          "execution_count": 34
        }
      ]
    },
    {
      "cell_type": "code",
      "source": [
        "#Q14\n",
        "x=int(input())\n",
        "y=int(input())\n",
        "z=int(input())\n",
        "if x>y:\n",
        "  max=x\n",
        "  if max>z:\n",
        "    max=x\n",
        "  elif max<z:\n",
        "    max=z\n",
        "elif x<y:\n",
        "  max=y\n",
        "  if z>max:\n",
        "    max=z\n",
        "  elif z<max:\n",
        "    max=y\n",
        "print(\"max of all is:\",max)"
      ],
      "metadata": {
        "colab": {
          "base_uri": "https://localhost:8080/"
        },
        "id": "fRbOZeswjHmG",
        "outputId": "e7c8b1f5-d15a-46d0-cb1f-65dbf8e514b9"
      },
      "execution_count": null,
      "outputs": [
        {
          "output_type": "stream",
          "name": "stdout",
          "text": [
            "78\n",
            "12\n",
            "54\n",
            "max of all is: 78\n"
          ]
        }
      ]
    },
    {
      "cell_type": "code",
      "source": [
        "#Q16\n",
        "s=input()\n",
        "if s[::]==s[::-1]:\n",
        "  print(\"pallindrome\")\n",
        "else:\n",
        "  print(\"not a pallindrome\")"
      ],
      "metadata": {
        "colab": {
          "base_uri": "https://localhost:8080/"
        },
        "id": "cE5_x689lzHP",
        "outputId": "e92fca41-4432-40d8-adf0-69dc7c57346c"
      },
      "execution_count": null,
      "outputs": [
        {
          "output_type": "stream",
          "name": "stdout",
          "text": [
            "malayalam\n",
            "pallindrome\n"
          ]
        }
      ]
    },
    {
      "cell_type": "code",
      "source": [
        "#Q17\n",
        "lst=[]\n",
        "n=int(input(\"number of elements:\"))\n",
        "for i in range(0,n):\n",
        "  x=int(input())\n",
        "  lst.append(x)\n",
        "max=0\n",
        "mini=lst[0]\n",
        "for i in lst:\n",
        "  if i>max:\n",
        "    max=i\n",
        "  else:\n",
        "    max=max\n",
        "for j in lst:\n",
        "  if j<=mini:\n",
        "    mini=j\n",
        "  else:\n",
        "    mini=mini\n",
        "sum=0\n",
        "for i in lst:\n",
        "  sum=sum+i\n",
        "avg=(sum-mini-max)/n\n",
        "print(\"average of numbers, excluding the smallest and largest value is:\",avg)"
      ],
      "metadata": {
        "colab": {
          "base_uri": "https://localhost:8080/"
        },
        "id": "k9M3eU6eoqIl",
        "outputId": "f1309f74-a8c3-4bb5-b710-020ba79c9e11"
      },
      "execution_count": null,
      "outputs": [
        {
          "output_type": "stream",
          "name": "stdout",
          "text": [
            "number of elements:5\n",
            "1\n",
            "2\n",
            "3\n",
            "4\n",
            "5\n",
            "average of numbers, excluding the smallest and largest value is: 1.8\n"
          ]
        }
      ]
    },
    {
      "cell_type": "code",
      "source": [
        "#Q18\n",
        "c=float(input())\n",
        "f=(1.8*c)+32\n",
        "print(\"temperature in fahrenheit=\",f)"
      ],
      "metadata": {
        "colab": {
          "base_uri": "https://localhost:8080/"
        },
        "id": "0Q1hfH9CpX_d",
        "outputId": "1f70d351-3298-4717-b320-498d6f5ba559"
      },
      "execution_count": null,
      "outputs": [
        {
          "output_type": "stream",
          "name": "stdout",
          "text": [
            "23\n",
            "temperature in fahrenheit= 73.4\n"
          ]
        }
      ]
    },
    {
      "cell_type": "code",
      "source": [
        "#Q19\n",
        "print(\"Enter 'add' for addition\")\n",
        "print(\"Enter 'subtract' for subtraction\")\n",
        "print(\"Enter 'multiply' for multiplication\")\n",
        "print(\"Enter 'divide' for division\")\n",
        "\n",
        "user_input = input(\": \")\n",
        "\n",
        "if user_input in (\"add\", \"subtract\", \"multiply\", \"divide\"):\n",
        "    num1 = float(input(\"Enter the first number: \"))\n",
        "    num2 = float(input(\"Enter the second number: \"))\n",
        "\n",
        "    if user_input == \"add\":\n",
        "        result = num1 + num2\n",
        "    elif user_input == \"subtract\":\n",
        "        result = num1 - num2\n",
        "    elif user_input == \"multiply\":\n",
        "        result = num1 * num2\n",
        "    elif user_input == \"divide\":\n",
        "        if num2 == 0:\n",
        "            result = \"Division by zero is not allowed.\"\n",
        "        else:\n",
        "            result = num1 / num2\n",
        "    print(\"Result:\", result)\n",
        "else:\n",
        "    print(\"Invalid input\")\n"
      ],
      "metadata": {
        "colab": {
          "base_uri": "https://localhost:8080/"
        },
        "id": "cHRLwbajxbEW",
        "outputId": "e0718fa7-fbe7-4eeb-e32e-8bea4807e939"
      },
      "execution_count": null,
      "outputs": [
        {
          "output_type": "stream",
          "name": "stdout",
          "text": [
            "Enter 'add' for addition\n",
            "Enter 'subtract' for subtraction\n",
            "Enter 'multiply' for multiplication\n",
            "Enter 'divide' for division\n",
            ": multiply\n",
            "Enter the first number: 4\n",
            "Enter the second number: 52\n",
            "Result: 208.0\n"
          ]
        }
      ]
    },
    {
      "cell_type": "code",
      "source": [
        "#Q20\n",
        "#DOUBT"
      ],
      "metadata": {
        "id": "5SrgNE_lyHl_"
      },
      "execution_count": null,
      "outputs": []
    },
    {
      "cell_type": "code",
      "source": [
        "#Q21\n",
        "tax_brackets = [(0, 10000), (10001, 50000), (50001, 100000), (100001, float(\"inf\"))]\n",
        "tax_rates = [0, 0.1, 0.2, 0.3]\n",
        "\n",
        "income=float(input())\n",
        "if tax_brackets[0][0]<=income<=tax_brackets[0][1]:\n",
        "  print(\"No tax\")\n",
        "elif tax_brackets[1][0]<=income<=tax_brackets[1][1]:\n",
        "  print(\"tax value=\",0.1*income)\n",
        "elif tax_brackets[2][0]<=income<=tax_brackets[2][1]:\n",
        "  print(\"tax value=\",0.2*income)\n",
        "elif tax_brackets[3][0]<=income<=tax_brackets[3][1]:\n",
        "  print(\"tax value=\",0.3*income)\n"
      ],
      "metadata": {
        "colab": {
          "base_uri": "https://localhost:8080/"
        },
        "id": "qAgDiPoxzliD",
        "outputId": "45296a29-a1c4-4f56-ed54-dfb175565f6c"
      },
      "execution_count": null,
      "outputs": [
        {
          "output_type": "stream",
          "name": "stdout",
          "text": [
            "52014\n",
            "tax value= 10402.800000000001\n"
          ]
        }
      ]
    },
    {
      "cell_type": "code",
      "source": [
        "#Q22\n",
        "import random\n",
        "x=input()\n",
        "pos=[\"rock\",\"paper\",\"scissor\"]\n",
        "rand = random.choice(pos)\n",
        "print(\"computer o/p=\",rand)\n",
        "if x==rand:\n",
        "  print(\"Draw !\")\n",
        "elif (x==\"rock\" and rand==\"scissor\") or (x=='paper' and rand=='rock') or (x=='scissor' and rand=='paper'):\n",
        "  print(\"You Won !\")\n",
        "elif (rand=='rock' and x=='scissor') or (rand=='paper' and x=='rock') or (rand=='scissor' and x=='paper'):\n",
        "  print(\"Computer Won !\")\n"
      ],
      "metadata": {
        "colab": {
          "base_uri": "https://localhost:8080/"
        },
        "id": "hAoOMwxe0uFA",
        "outputId": "9970e66a-6e2c-4fb4-fe6a-054c7c8e255c"
      },
      "execution_count": null,
      "outputs": [
        {
          "output_type": "stream",
          "name": "stdout",
          "text": [
            "rock\n",
            "computer o/p= scissor\n",
            "You Won !\n"
          ]
        }
      ]
    },
    {
      "cell_type": "code",
      "source": [
        "#Q23\n",
        "#DOUBT"
      ],
      "metadata": {
        "id": "Cz0MRzSI2ZrT"
      },
      "execution_count": null,
      "outputs": []
    },
    {
      "cell_type": "code",
      "source": [
        "#Q24\n",
        "print(\"Welcome to The Haunted Mansion\")\n",
        "print(\"You find yourself standing in front of a dark, ominous mansion. It's rumored to be haunted, but there are rumors of hidden treasures inside.\")\n",
        "print(\"What do you do?\")\n",
        "print(\"1. Enter the Mansion\")\n",
        "print(\"2. Turn and run away\")\n",
        "x=int(input())\n",
        "if x==2:\n",
        "  print(\"LOSER. HA HA !!!\")\n",
        "elif x==1:\n",
        "  print(\"You enter the mansion, and you find yourself in a dusty, cobweb-filled foyer.\")\n",
        "  print(\"Two doors lead to different parts of the mansion.\")\n",
        "  print(\"1. Go through the left door written COME IN on it\")\n",
        "  print(\"2. Go through the right door written DEATH on it\")\n",
        "  print(\"3. Turn back and leave.\")\n",
        "  x=int(input())\n",
        "  if x==3:\n",
        "    print(\"LOSER. HA HA !!!\")\n",
        "  elif x==1:\n",
        "    print(\"You see a hanging body from the ceiling and an old man with chainsaw which run to kill you\")\n",
        "    print(\"You Died\")\n",
        "    print(\"GAME LOST\")\n",
        "  elif x==2:\n",
        "    print(\"You enter a dimly lit library filled with old, dusty books. One book on the shelf with light falling only on it catches your eye.\")\n",
        "    print(\"1. Read the book.\")\n",
        "    print(\"2. Leave the library.\")\n",
        "    x=int(input())\n",
        "    if x==2:\n",
        "      print(\"LOSER. HA HA !!!\")\n",
        "    elif x==1:\n",
        "      print(\"You discover a secret message that hints at the location of the mansion's treasure.\")\n",
        "      print(\"You follow the hint from the book and find a hidden passage behind a bookshelf. It leads to a small room with a chest.\")\n",
        "      print(\"MIND, YOU ARE IN A HAUNTED MANSION AND ALL CHESTS ARE NOT MEANT TO BE OPENED :|\")\n",
        "      print(\"1. Open the chest\")\n",
        "      print(\"2. Leave the room\")\n",
        "      x=int(input())\n",
        "      if x==2:\n",
        "        print(\"LOSER. HA HA !!!\")\n",
        "      elif x==1:\n",
        "        print(\"Congratulations! You've found the hidden treasure. You win the game!\")\n",
        "print(\"Thanks for playing\")\n"
      ],
      "metadata": {
        "id": "ngQOXcxk39l9",
        "colab": {
          "base_uri": "https://localhost:8080/"
        },
        "outputId": "bc19557e-8d83-4b8c-e015-bab4a2222424"
      },
      "execution_count": null,
      "outputs": [
        {
          "output_type": "stream",
          "name": "stdout",
          "text": [
            "Welcome to The Haunted Mansion\n",
            "You find yourself standing in front of a dark, ominous mansion. It's rumored to be haunted, but there are rumors of hidden treasures inside.\n",
            "What do you do?\n",
            "1. Enter the Mansion\n",
            "2. Turn and run away\n",
            "1\n",
            "You enter the mansion, and you find yourself in a dusty, cobweb-filled foyer.\n",
            "Two doors lead to different parts of the mansion.\n",
            "1. Go through the left door written COME IN on it\n",
            "2. Go through the right door written DEATH on it\n",
            "3. Turn back and leave.\n",
            "2\n",
            "You enter a dimly lit library filled with old, dusty books. One book on the shelf with light falling only on it catches your eye.\n",
            "1. Read the book.\n",
            "2. Leave the library.\n",
            "1\n",
            "You discover a secret message that hints at the location of the mansion's treasure.\n",
            "You follow the hint from the book and find a hidden passage behind a bookshelf. It leads to a small room with a chest.\n",
            "MIND, YOU ARE IN A HAUNTED MANSION AND ALL CHESTS ARE NOT MEANT TO BE OPENED :|\n",
            "1. Open the chest\n",
            "2. Leave the room\n",
            "1\n",
            "Congratulations! You've found the hidden treasure. You win the game!\n",
            "Thanks for playing\n"
          ]
        }
      ]
    },
    {
      "cell_type": "code",
      "source": [
        "#Q25\n",
        "print(\"Enter the coefficients a and b for equation of form ax+b=0\")\n",
        "a=float(input(\"a=\"))\n",
        "b=float(input(\"b=\"))\n",
        "print(\"x=\",((-b)/a))"
      ],
      "metadata": {
        "colab": {
          "base_uri": "https://localhost:8080/"
        },
        "id": "XwkJR0aFQ7-I",
        "outputId": "af73de01-a838-40c2-8f8c-7dc2b392bc90"
      },
      "execution_count": null,
      "outputs": [
        {
          "output_type": "stream",
          "name": "stdout",
          "text": [
            "Enter the coefficients a and b for equation of form ax+b=0\n",
            "a=5\n",
            "b=3\n",
            "x= -0.6\n"
          ]
        }
      ]
    },
    {
      "cell_type": "code",
      "source": [
        "#Q26\n",
        "score=0\n",
        "print(\"welcome to the quiz!\")\n",
        "print(\"Q1.Which is the highest waterfall in India?\")\n",
        "print(\"a) Dudhsagar Falls\")\n",
        "print(\"b) Jog Falls\")\n",
        "print(\"c) Palaruvi Falls\")\n",
        "print(\"d) Meenmutty Falls\")\n",
        "x=input(\"enter one out of a/b/c/d:\")\n",
        "if x==\"a\" or x==\"c\" or x==\"d\":\n",
        "  print(\"wrong answer\")\n",
        "else:\n",
        "  print(\"correct answer\")\n",
        "  score=score+1\n",
        "  print(\"score=\",score)"
      ],
      "metadata": {
        "colab": {
          "base_uri": "https://localhost:8080/"
        },
        "id": "c65mDbOVVMCz",
        "outputId": "6d18bbf5-e4fc-4549-9306-4069af1ddf14"
      },
      "execution_count": null,
      "outputs": [
        {
          "output_type": "stream",
          "name": "stdout",
          "text": [
            "welcome to the quiz!\n",
            "Q1.Which is the highest waterfall in India?\n",
            "a) Dudhsagar Falls\n",
            "b) Jog Falls\n",
            "c) Palaruvi Falls\n",
            "d) Meenmutty Falls\n",
            "enter one out of a/b/c/d:b\n",
            "correct answer\n",
            "score= 1\n"
          ]
        }
      ]
    },
    {
      "cell_type": "code",
      "source": [
        "#Q27\n",
        "x=int(input())\n",
        "isprime=1\n",
        "for i in range(2,x):\n",
        "  if x%i==0:\n",
        "    isprime=0\n",
        "if isprime==0:\n",
        "  print(\"not prime\")\n",
        "else:\n",
        "  print(\"prime\")\n"
      ],
      "metadata": {
        "colab": {
          "base_uri": "https://localhost:8080/"
        },
        "id": "9d_-_kNTZ54i",
        "outputId": "9debc165-33a7-4b43-d37b-ef54918ca8f1"
      },
      "execution_count": null,
      "outputs": [
        {
          "output_type": "stream",
          "name": "stdout",
          "text": [
            "2011\n",
            "prime\n"
          ]
        }
      ]
    },
    {
      "cell_type": "code",
      "source": [
        "#Q28\n",
        "x=int(input())\n",
        "y=int(input())\n",
        "z=int(input())\n",
        "if x>y and x>z:\n",
        "  max1=x\n",
        "  if y>z:\n",
        "    max2=y\n",
        "    max3=z\n",
        "  elif y<z:\n",
        "    max2=z\n",
        "    max3=y\n",
        "if y>x and y>z:\n",
        "  max1=y\n",
        "  if x>z:\n",
        "    max2=x\n",
        "    max3=z\n",
        "  elif x<z:\n",
        "    max2=z\n",
        "    max3=x\n",
        "if z>x and z>y:\n",
        "  max1=z\n",
        "  if x>y:\n",
        "    max2=x\n",
        "    max3=y\n",
        "  elif x<y:\n",
        "    max2=y\n",
        "    max3=x\n",
        "print(max3,\"<\",max2,\"<\",max1)"
      ],
      "metadata": {
        "colab": {
          "base_uri": "https://localhost:8080/"
        },
        "id": "-VaF1vnXawDe",
        "outputId": "db26379c-dfe0-4cd9-c37e-b7e5fde0e3cc"
      },
      "execution_count": null,
      "outputs": [
        {
          "output_type": "stream",
          "name": "stdout",
          "text": [
            "2\n",
            "3\n",
            "4\n",
            "2 < 3 < 4\n"
          ]
        }
      ]
    },
    {
      "cell_type": "code",
      "source": [
        "#Q29\n",
        "#DOUBT"
      ],
      "metadata": {
        "id": "CN_deJFBgUe_"
      },
      "execution_count": null,
      "outputs": []
    },
    {
      "cell_type": "code",
      "source": [
        "#Q30\n",
        "bmi = float(input())\n",
        "if 0<=bmi<=18.4:\n",
        "  print(\"underweight\")\n",
        "  print(\"Eat food\")\n",
        "elif 18.5<=bmi<=24.9:\n",
        "  print(\"Normal\")\n",
        "  print(\"continue as it is\")\n",
        "elif 25<=bmi<=29.9:\n",
        "  print(\"Overweight\")\n",
        "  print(\"eat less\")\n",
        "else:\n",
        "  print(\"Obese\")\n",
        "  print(\"eat less and consult a doctor\")"
      ],
      "metadata": {
        "colab": {
          "base_uri": "https://localhost:8080/"
        },
        "id": "GcevyyzYiZB_",
        "outputId": "fd793c1b-90d9-4722-e5a4-1eeeda4072f5"
      },
      "execution_count": null,
      "outputs": [
        {
          "output_type": "stream",
          "name": "stdout",
          "text": [
            "54\n",
            "Obese\n",
            "eat less and consult a doctor\n"
          ]
        }
      ]
    },
    {
      "cell_type": "code",
      "source": [
        "#Q31\n",
        "p=input()\n",
        "countU=0\n",
        "countL=0\n",
        "countN=0\n",
        "if len(p)<8:\n",
        "  print(\"INVALID. LENGTH<8\")\n",
        "for char in p:\n",
        "  if char.isupper():\n",
        "    countU=countU+1\n",
        "if countU==0:\n",
        "  print(\"INVALID. ATLEAST 1 UPPER CASE LETTER REQUIRED\")\n",
        "for char in p:\n",
        "  if char.islower():\n",
        "    countL=countL+1\n",
        "if countL==0:\n",
        "  print(\"INVALID. ATLEAST 1 LOWER CASE LETTER REQUIREDT\")\n",
        "for char in p:\n",
        "  if char in [\"1\",\"2\",\"3\",\"4\",\"5\",\"6\",\"7\",\"8\",\"9\"]:\n",
        "    countN=countN+1\n",
        "if countN==0:\n",
        "  print(\"INVALID. ATLEAST 1 NUMERIC REQUIRED\")\n"
      ],
      "metadata": {
        "colab": {
          "base_uri": "https://localhost:8080/"
        },
        "id": "vSItOZx7jRMr",
        "outputId": "a71dcb82-c946-4e7a-d474-39febae1092f"
      },
      "execution_count": null,
      "outputs": [
        {
          "output_type": "stream",
          "name": "stdout",
          "text": [
            "pass\n",
            "INVALID. LENGTH<8\n",
            "INVALID. ATLEAST 1 UPPER CASE LETTER REQUIRED\n",
            "INVALID. ATLEAST 1 NUMERIC REQUIRED\n"
          ]
        }
      ]
    },
    {
      "cell_type": "code",
      "source": [
        "#Q32\n",
        "A=[[0,0,0],[0,0,0],[0,0,0]]\n",
        "B=[[0,0,0],[0,0,0],[0,0,0]]\n",
        "C=[[0,0,0],[0,0,0],[0,0,0]]\n",
        "D=[[0,0,0],[0,0,0],[0,0,0]]\n",
        "for i in range(3):\n",
        "  for j in range(3):\n",
        "    A[i][j]=int(input(\"Enter the element:\"))\n",
        "print(\"Matrix A=\",A)\n",
        "for i in range(3):\n",
        "  for j in range(3):\n",
        "    B[i][j]=int(input(\"Enter the element:\"))\n",
        "print(\"Matrix B=\",B)\n",
        "for i in range(3):\n",
        "  for j in range(3):\n",
        "    C[i][j]=A[i][j]+B[i][j]\n",
        "print(\"sum matrix(A+B)=\",C)\n",
        "for i in range(3):\n",
        "  for j in range(3):\n",
        "    D[i][j]=A[i][j]-B[i][j]\n",
        "print(\"difference matrix(A-B)=\",D)"
      ],
      "metadata": {
        "colab": {
          "base_uri": "https://localhost:8080/"
        },
        "id": "-XV6SjeZlef8",
        "outputId": "b1d90403-6955-4968-9f7c-5e6443eb42e1"
      },
      "execution_count": null,
      "outputs": [
        {
          "output_type": "stream",
          "name": "stdout",
          "text": [
            "Enter the element:1\n",
            "Enter the element:2\n",
            "Enter the element:3\n",
            "Enter the element:4\n",
            "Enter the element:5\n",
            "Enter the element:6\n",
            "Enter the element:7\n",
            "Enter the element:8\n",
            "Enter the element:9\n",
            "Matrix A= [[1, 2, 3], [4, 5, 6], [7, 8, 9]]\n",
            "Enter the element:10\n",
            "Enter the element:11\n",
            "Enter the element:12\n",
            "Enter the element:13\n",
            "Enter the element:14\n",
            "Enter the element:15\n",
            "Enter the element:16\n",
            "Enter the element:17\n",
            "Enter the element:18\n",
            "Matrix B= [[10, 11, 12], [13, 14, 15], [16, 17, 18]]\n",
            "sum matrix(A+B)= [[11, 13, 15], [17, 19, 21], [23, 25, 27]]\n",
            "difference matrix(A-B)= [[-9, -9, -9], [-9, -9, -9], [-9, -9, -9]]\n"
          ]
        }
      ]
    },
    {
      "cell_type": "code",
      "source": [
        "#Q33\n",
        "x=int(input())\n",
        "y=int(input())\n",
        "if x>y:\n",
        "  for i in range(y,1,-1):\n",
        "    if x%i==0 and y%i==0:\n",
        "      print(\"GCD is:\" ,i)\n",
        "      break\n",
        "elif x<y:\n",
        "  for i in range(x,1,-1):\n",
        "    if x%i==0 and y%i==0:\n",
        "      print(\"GCD is:\" ,i)\n",
        "      break"
      ],
      "metadata": {
        "colab": {
          "base_uri": "https://localhost:8080/"
        },
        "id": "-mgao2jcotWQ",
        "outputId": "2ddc9f8b-e098-4817-933f-6c5cea2bba74"
      },
      "execution_count": null,
      "outputs": [
        {
          "output_type": "stream",
          "name": "stdout",
          "text": [
            "4\n",
            "12\n",
            "GCD is: 4\n"
          ]
        }
      ]
    },
    {
      "cell_type": "code",
      "source": [
        "#Q34\n",
        "A=[[0,0,0],[0,0,0],[0,0,0]]\n",
        "B=[[0,0,0],[0,0,0],[0,0,0]]\n",
        "C=[[0,0,0],[0,0,0],[0,0,0]]\n",
        "sum=0\n",
        "for i in range(3):\n",
        "  for j in range(3):\n",
        "    A[i][j]=int(input(\"Enter the element:\"))\n",
        "print(\"Matrix A=\",A)\n",
        "for i in range(3):\n",
        "  for j in range(3):\n",
        "    B[i][j]=int(input(\"Enter the element:\"))\n",
        "print(\"Matrix B=\",B)\n",
        "for i in range(3):\n",
        "  for j in range(3):\n",
        "    for k in range(3):\n",
        "      C[i][j]=C[i][j]+(A[i][k]*B[k][j])\n",
        "print(C)"
      ],
      "metadata": {
        "id": "3oicTWfvBTub",
        "colab": {
          "base_uri": "https://localhost:8080/"
        },
        "outputId": "fdc3e20a-9b21-49d4-931c-38f61f068efc"
      },
      "execution_count": 3,
      "outputs": [
        {
          "output_type": "stream",
          "name": "stdout",
          "text": [
            "Enter the element:2\n",
            "Enter the element:0\n",
            "Enter the element:0\n",
            "Enter the element:0\n",
            "Enter the element:2\n",
            "Enter the element:0\n",
            "Enter the element:0\n",
            "Enter the element:0\n",
            "Enter the element:2\n",
            "Matrix A= [[2, 0, 0], [0, 2, 0], [0, 0, 2]]\n",
            "Enter the element:3\n",
            "Enter the element:0\n",
            "Enter the element:0\n",
            "Enter the element:0\n",
            "Enter the element:3\n",
            "Enter the element:0\n",
            "Enter the element:0\n",
            "Enter the element:0\n",
            "Enter the element:3\n",
            "Matrix B= [[3, 0, 0], [0, 3, 0], [0, 0, 3]]\n",
            "[[6, 0, 0], [0, 6, 0], [0, 0, 6]]\n"
          ]
        }
      ]
    },
    {
      "cell_type": "code",
      "source": [
        "#Q35---->DOUBT\n",
        "A=[[2,2,2],[2,2,2],[2,2,2]]\n",
        "print('Enter position of entering cross:')\n",
        "i=int(input(\"i=\"))\n",
        "j=int(input(\"j=\"))\n",
        "A[i][j]=1\n",
        "if (i==1 and j==1) or (i==1 and j==3) or (i==3 and j==1) or (i==3 and j==3):\n",
        "  if (i==1 and j==1):\n",
        "    A[3][3]=0\n",
        "  if (i==1 and j==3):\n",
        "    A[3][1]=0\n",
        "  if (i==3 and j==1):\n",
        "    A[1][3]=0\n",
        "  if (i==3 and j==3):\n",
        "    A[1][1]=0\n",
        "  print('Enter position of entering cross:')\n",
        "  i=int(input(\"i=\"))\n",
        "  j=int(input(\"j=\"))\n",
        ""
      ],
      "metadata": {
        "id": "a1Basbw9O9qF"
      },
      "execution_count": null,
      "outputs": []
    },
    {
      "cell_type": "code",
      "source": [
        "#Q36\n",
        "n=int(input(\"Number of terms required:\"))\n",
        "a=1\n",
        "b=1\n",
        "print(\"Fibonaaci series:\")\n",
        "print(a)\n",
        "print(b)\n",
        "for i in range(2,n):\n",
        "  sum=a+b\n",
        "  print(sum)\n",
        "  a=b\n",
        "  b=sum"
      ],
      "metadata": {
        "colab": {
          "base_uri": "https://localhost:8080/"
        },
        "id": "yrXlXv5zWESx",
        "outputId": "fdbc059e-189c-4b0c-b5d8-b31f259754f5"
      },
      "execution_count": 25,
      "outputs": [
        {
          "output_type": "stream",
          "name": "stdout",
          "text": [
            "Number of terms required:10\n",
            "Fibonaaci series:\n",
            "1\n",
            "1\n",
            "2\n",
            "3\n",
            "5\n",
            "8\n",
            "13\n",
            "21\n",
            "34\n",
            "55\n"
          ]
        }
      ]
    },
    {
      "cell_type": "code",
      "source": [
        "#Q37--->DOUBT\n",
        "n=int(input(\"Value of n for the term:\"))\n",
        "a=1\n",
        "b=1\n",
        "for i in range(2,n):\n",
        "  sum=a+b\n",
        "  a=b\n",
        "  b=sum\n",
        "  if i==n-1:\n",
        "    print(b)\n",
        "    break"
      ],
      "metadata": {
        "colab": {
          "base_uri": "https://localhost:8080/"
        },
        "id": "Mck2uKWdXK7k",
        "outputId": "71f589da-1161-4aab-8d1e-81782cc957bc"
      },
      "execution_count": 23,
      "outputs": [
        {
          "output_type": "stream",
          "name": "stdout",
          "text": [
            "Value of n for the term:10\n",
            "55\n"
          ]
        }
      ]
    },
    {
      "cell_type": "code",
      "source": [
        "#Q38\n",
        "y=int(input(\"year:\"))\n",
        "m=int(input(\"month(1-12)\"))\n",
        "if y%4!=0:\n",
        "  print(\"not leap year\")\n",
        "  if m==1 or m==3 or m==5 or m==7 or m==8 or m==10 or m==12:\n",
        "    for i in range(31):\n",
        "      print(i+1)\n",
        "  elif m==4 or m==6 or m==9 or m==11:\n",
        "    for i in range(30):\n",
        "      print(i+1)\n",
        "  elif m==2:\n",
        "    for i in range(28):\n",
        "      print(i+1)\n",
        "else:\n",
        "  print(\"leap year\")\n",
        "  if m==1 or m==3 or m==5 or m==7 or m==8 or m==10 or m==12:\n",
        "    for i in range(31):\n",
        "      print(i+1)\n",
        "  elif m==4 or m==6 or m==9 or m==11:\n",
        "    for i in range(30):\n",
        "      print(i+1)\n",
        "  elif m==2:\n",
        "    for i in range(29):\n",
        "      print(i+1)"
      ],
      "metadata": {
        "colab": {
          "base_uri": "https://localhost:8080/"
        },
        "id": "YIG-gEmUY8YG",
        "outputId": "125438b2-1acb-4334-dde1-1fe75a564bdf"
      },
      "execution_count": 30,
      "outputs": [
        {
          "output_type": "stream",
          "name": "stdout",
          "text": [
            "year:2020\n",
            "month(1-12)2\n",
            "leap year\n",
            "1\n",
            "2\n",
            "3\n",
            "4\n",
            "5\n",
            "6\n",
            "7\n",
            "8\n",
            "9\n",
            "10\n",
            "11\n",
            "12\n",
            "13\n",
            "14\n",
            "15\n",
            "16\n",
            "17\n",
            "18\n",
            "19\n",
            "20\n",
            "21\n",
            "22\n",
            "23\n",
            "24\n",
            "25\n",
            "26\n",
            "27\n",
            "28\n",
            "29\n"
          ]
        }
      ]
    },
    {
      "cell_type": "code",
      "source": [
        "#Q39--> DOUBT"
      ],
      "metadata": {
        "id": "RKPEQYm6iY1B"
      },
      "execution_count": 31,
      "outputs": []
    },
    {
      "cell_type": "code",
      "source": [
        "#Q40\n",
        "n=int(input())\n",
        "isprime=1\n",
        "for i in range(2,n):\n",
        "  if n%(i)==0:\n",
        "    isprime=0\n",
        "    break\n",
        "if isprime==0:\n",
        "  print(\"not prime\")\n",
        "else:\n",
        "  print(\"prime\")"
      ],
      "metadata": {
        "colab": {
          "base_uri": "https://localhost:8080/"
        },
        "id": "29hHlvbGjqj5",
        "outputId": "aa929e6c-6089-4351-9f7f-8a812637801f"
      },
      "execution_count": 36,
      "outputs": [
        {
          "output_type": "stream",
          "name": "stdout",
          "text": [
            "2011\n",
            "prime\n"
          ]
        }
      ]
    }
  ]
}
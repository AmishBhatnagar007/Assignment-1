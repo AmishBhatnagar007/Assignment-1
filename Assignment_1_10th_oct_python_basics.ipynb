{
 "cells": [
  {
   "cell_type": "code",
   "execution_count": 2,
   "id": "554959ba-dc1e-4df5-b09c-b6258489d746",
   "metadata": {},
   "outputs": [
    {
     "name": "stdin",
     "output_type": "stream",
     "text": [
      "length 23\n",
      "breadth 54\n"
     ]
    },
    {
     "name": "stdout",
     "output_type": "stream",
     "text": [
      "area= 1242.0\n"
     ]
    }
   ],
   "source": [
    "l=float(input(\"length\"))\n",
    "b=float(input(\"breadth\"))\n",
    "print(\"area=\",l*b)                  #Q2"
   ]
  },
  {
   "cell_type": "code",
   "execution_count": 5,
   "id": "292b1f01-4bf4-4f7a-abd1-7ea73efeaf43",
   "metadata": {},
   "outputs": [
    {
     "name": "stdin",
     "output_type": "stream",
     "text": [
      "temp in celsius= 23\n"
     ]
    },
    {
     "name": "stdout",
     "output_type": "stream",
     "text": [
      "temp in fahrenheit= 73.4\n"
     ]
    }
   ],
   "source": [
    "c=float(input(\"temp in celsius=\"))\n",
    "print(\"temp in fahrenheit=\",(1.8*c)+32.00)             #Q3"
   ]
  },
  {
   "cell_type": "code",
   "execution_count": 6,
   "id": "0a5dd9b8-99c7-46b4-bca8-9e09111f60e3",
   "metadata": {},
   "outputs": [
    {
     "name": "stdin",
     "output_type": "stream",
     "text": [
      " amish\n"
     ]
    },
    {
     "name": "stdout",
     "output_type": "stream",
     "text": [
      "5\n"
     ]
    }
   ],
   "source": [
    "a = input()\n",
    "print(len(a))                  #Q4"
   ]
  },
  {
   "cell_type": "code",
   "execution_count": 8,
   "id": "61c1bd3a-0ca2-4414-98c3-eb04dc419162",
   "metadata": {},
   "outputs": [
    {
     "name": "stdin",
     "output_type": "stream",
     "text": [
      " amish\n"
     ]
    },
    {
     "data": {
      "text/plain": [
       "'hsima'"
      ]
     },
     "execution_count": 8,
     "metadata": {},
     "output_type": "execute_result"
    }
   ],
   "source": [
    "c=input()\n",
    "c[-1::-1]                   #Q6"
   ]
  },
  {
   "cell_type": "code",
   "execution_count": 11,
   "id": "d4659968-5254-4980-834c-8e41e67f0bc1",
   "metadata": {},
   "outputs": [
    {
     "name": "stdin",
     "output_type": "stream",
     "text": [
      " amish\n"
     ]
    },
    {
     "name": "stdout",
     "output_type": "stream",
     "text": [
      "Not Pallindrome\n"
     ]
    }
   ],
   "source": [
    "c=input()\n",
    "if(c[-1::-1]==c[0:]):\n",
    "    print(\"Pallindrome\")\n",
    "else:\n",
    "    print(\"Not Pallindrome\")                #Q7"
   ]
  },
  {
   "cell_type": "code",
   "execution_count": 14,
   "id": "4fdf0c0b-baf1-49a6-b5d3-6d89ab1f37bd",
   "metadata": {},
   "outputs": [
    {
     "name": "stdin",
     "output_type": "stream",
     "text": [
      " you are a piece of shit\n"
     ]
    },
    {
     "data": {
      "text/plain": [
       "10"
      ]
     },
     "execution_count": 14,
     "metadata": {},
     "output_type": "execute_result"
    }
   ],
   "source": [
    "sentence =str(input())\n",
    "l_sent=sentence.lower()\n",
    "num_of_vow = sentence.count(\"a\")+sentence.count(\"e\")+sentence.count(\"i\")+sentence.count(\"o\")+sentence.count(\"u\")\n",
    "num_of_vow               #Q5\n",
    "            "
   ]
  },
  {
   "cell_type": "code",
   "execution_count": 16,
   "id": "9e0ba255-5ab9-44c2-aa62-f15f5ad8d935",
   "metadata": {},
   "outputs": [
    {
     "name": "stdin",
     "output_type": "stream",
     "text": [
      "       lo    \n"
     ]
    },
    {
     "data": {
      "text/plain": [
       "'lo'"
      ]
     },
     "execution_count": 16,
     "metadata": {},
     "output_type": "execute_result"
    }
   ],
   "source": [
    "c=str(input())\n",
    "c_no_spc =c.strip()\n",
    "c_no_spc\n",
    "              #Q8"
   ]
  },
  {
   "cell_type": "code",
   "execution_count": null,
   "id": "1f95a523-1752-4a0a-964d-7dac7ce687f3",
   "metadata": {},
   "outputs": [],
   "source": [
    "x = int(input())\n",
    "y = int(input())\n",
    "x=y\n",
    "y=x\n",
    "x"
   ]
  },
  {
   "cell_type": "code",
   "execution_count": null,
   "id": "ef9c4e08-c3a5-4567-9427-b257bc7d8cac",
   "metadata": {},
   "outputs": [],
   "source": []
  }
 ],
 "metadata": {
  "kernelspec": {
   "display_name": "Python 3 (ipykernel)",
   "language": "python",
   "name": "python3"
  },
  "language_info": {
   "codemirror_mode": {
    "name": "ipython",
    "version": 3
   },
   "file_extension": ".py",
   "mimetype": "text/x-python",
   "name": "python",
   "nbconvert_exporter": "python",
   "pygments_lexer": "ipython3",
   "version": "3.10.8"
  }
 },
 "nbformat": 4,
 "nbformat_minor": 5
}

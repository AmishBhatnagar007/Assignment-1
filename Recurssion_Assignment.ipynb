{
  "nbformat": 4,
  "nbformat_minor": 0,
  "metadata": {
    "colab": {
      "provenance": [],
      "authorship_tag": "ABX9TyNGj3xLmL4eFuYD5/jGpIPP",
      "include_colab_link": true
    },
    "kernelspec": {
      "name": "python3",
      "display_name": "Python 3"
    },
    "language_info": {
      "name": "python"
    }
  },
  "cells": [
    {
      "cell_type": "markdown",
      "metadata": {
        "id": "view-in-github",
        "colab_type": "text"
      },
      "source": [
        "<a href=\"https://colab.research.google.com/github/AmishBhatnagar007/Assignments/blob/main/Recurssion_Assignment.ipynb\" target=\"_parent\"><img src=\"https://colab.research.google.com/assets/colab-badge.svg\" alt=\"Open In Colab\"/></a>"
      ]
    },
    {
      "cell_type": "code",
      "source": [
        "#Q1:Tower of Hanoi\n",
        "def toh(n,start,aux,end):\n",
        "  m=0\n",
        "  if n==0:\n",
        "    return\n",
        "  else:\n",
        "    toh(n-1,start,end,aux)\n",
        "    print(\"move\",n,\"th disk from\",start,\"to\",end)\n",
        "    m=m+1\n",
        "    toh(n-1,aux,start,end)"
      ],
      "metadata": {
        "id": "9FoSdc0OOmvd"
      },
      "execution_count": null,
      "outputs": []
    },
    {
      "cell_type": "code",
      "source": [
        "toh(4,\"A\",\"B\",\"C\")"
      ],
      "metadata": {
        "colab": {
          "base_uri": "https://localhost:8080/"
        },
        "id": "FE6fIKoTPLrk",
        "outputId": "b5d709e7-390e-4af7-cf5e-6ed4bee56362"
      },
      "execution_count": null,
      "outputs": [
        {
          "output_type": "stream",
          "name": "stdout",
          "text": [
            "move 1 th disk from A to B\n",
            "move 2 th disk from A to C\n",
            "move 1 th disk from B to C\n",
            "move 3 th disk from A to B\n",
            "move 1 th disk from C to A\n",
            "move 2 th disk from C to B\n",
            "move 1 th disk from A to B\n",
            "move 4 th disk from A to C\n",
            "move 1 th disk from B to C\n",
            "move 2 th disk from B to A\n",
            "move 1 th disk from C to A\n",
            "move 3 th disk from B to C\n",
            "move 1 th disk from A to B\n",
            "move 2 th disk from A to C\n",
            "move 1 th disk from B to C\n"
          ]
        }
      ]
    },
    {
      "cell_type": "code",
      "source": [
        "#Q2: DOUBT\n",
        "a=[1,2,3,4,5]\n",
        "z=a.pop()\n",
        "a\n",
        "a.reverse()\n",
        "a"
      ],
      "metadata": {
        "colab": {
          "base_uri": "https://localhost:8080/"
        },
        "id": "0nyPnKARPN5C",
        "outputId": "2023a65f-9d09-4969-c78d-f1e5ab551c8b"
      },
      "execution_count": null,
      "outputs": [
        {
          "output_type": "execute_result",
          "data": {
            "text/plain": [
              "[4, 3, 2, 1]"
            ]
          },
          "metadata": {},
          "execution_count": 5
        }
      ]
    },
    {
      "cell_type": "code",
      "source": [
        "#Q3:\n",
        "def max(arr):\n",
        "  #base case\n",
        "  if len(arr)==1:\n",
        "    return arr[0]\n",
        "  #rec code\n",
        "  else:\n",
        "    max_val=max(arr[1:])\n",
        "    if max_val>arr[0]:\n",
        "      return max_val\n",
        "    else:\n",
        "      return arr[0]"
      ],
      "metadata": {
        "id": "Rp31OEOHYayB"
      },
      "execution_count": null,
      "outputs": []
    },
    {
      "cell_type": "code",
      "source": [
        "max([ 13, 1, -3, 22, 5])"
      ],
      "metadata": {
        "colab": {
          "base_uri": "https://localhost:8080/"
        },
        "id": "8RXCvEg_eyqj",
        "outputId": "39eaeeac-e29e-4661-87d8-55e99f578c17"
      },
      "execution_count": null,
      "outputs": [
        {
          "output_type": "execute_result",
          "data": {
            "text/plain": [
              "22"
            ]
          },
          "metadata": {},
          "execution_count": 15
        }
      ]
    },
    {
      "cell_type": "code",
      "source": [
        "#Q4\n",
        "def sum(arr):\n",
        "  total=arr[0]\n",
        "  if len(arr)==1:\n",
        "    return total\n",
        "  else:\n",
        "    return total+sum(arr[1:])"
      ],
      "metadata": {
        "id": "pN0s6ITPe3DG"
      },
      "execution_count": null,
      "outputs": []
    },
    {
      "cell_type": "code",
      "source": [
        "sum([92, 23, 15, -20, 10])"
      ],
      "metadata": {
        "colab": {
          "base_uri": "https://localhost:8080/"
        },
        "id": "LmtfajLHhWvU",
        "outputId": "c096c5b9-3507-4be2-aa89-8aece8119da3"
      },
      "execution_count": null,
      "outputs": [
        {
          "output_type": "execute_result",
          "data": {
            "text/plain": [
              "120"
            ]
          },
          "metadata": {},
          "execution_count": 39
        }
      ]
    },
    {
      "cell_type": "code",
      "source": [
        "#Q5\n",
        "def armst_no(n,digits):\n",
        "  if n<=9:\n",
        "    return n**digits\n",
        "  else:\n",
        "    z=n%10\n",
        "    return z**digits+armst_no(n//10,digits)\n",
        "\n",
        "num=153\n",
        "digits=3\n",
        "if armst_no(num,digits)==num:\n",
        "  print(\"Yes\")\n",
        "else:\n",
        "  print(\"No\")"
      ],
      "metadata": {
        "colab": {
          "base_uri": "https://localhost:8080/"
        },
        "id": "NQ2da63YhbWa",
        "outputId": "5aefcb06-0baa-40fd-d275-683a08855e49"
      },
      "execution_count": null,
      "outputs": [
        {
          "output_type": "stream",
          "name": "stdout",
          "text": [
            "Yes\n"
          ]
        }
      ]
    }
  ]
}